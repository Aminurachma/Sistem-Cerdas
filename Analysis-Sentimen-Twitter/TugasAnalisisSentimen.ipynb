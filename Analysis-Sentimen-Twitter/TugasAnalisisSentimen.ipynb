{
 "cells": [
  {
   "cell_type": "code",
   "execution_count": null,
   "metadata": {},
   "outputs": [],
   "source": [
    "Access token:\n",
    "\n",
    "2464327753-T3QPmpnffpyjoOPQbYS97UHKr8Zokf46urNqfSf\n",
    "\n",
    "copy-light\n",
    "Access token secret:\n",
    "\n",
    "tL0d6oPCl7kW0RlNxXfIPbx8UcZg9aKtIf3XeRLCMXCLa\n",
    "\n",
    "copy-light"
   ]
  },
  {
   "cell_type": "code",
   "execution_count": 71,
   "metadata": {},
   "outputs": [],
   "source": [
    "import tweepy\n",
    "from textblob import TextBlob\n",
    "import csv\n",
    "import pandas as pd"
   ]
  },
  {
   "cell_type": "code",
   "execution_count": 72,
   "metadata": {},
   "outputs": [],
   "source": [
    "consumer_key = 'Wn02Vkt660TAWh22cGPHgYVVN'\n",
    "consumer_secret = 'K00OcKr1F8hUYNjd55QEvaAsGkGVeRp95J0v1Wq8QWQGt7g9my'\n",
    "access_token = '2464327753-T3QPmpnffpyjoOPQbYS97UHKr8Zokf46urNqfSf'\n",
    "access_token_secret = 'tL0d6oPCl7kW0RlNxXfIPbx8UcZg9aKtIf3XeRLCMXCLa'\n",
    "\n",
    "auth = tweepy.OAuthHandler(consumer_key, consumer_secret)\n",
    "auth.set_access_token(access_token, access_token_secret)\n",
    "api = tweepy.API(auth, wait_on_rate_limit=True)"
   ]
  },
  {
   "cell_type": "code",
   "execution_count": 73,
   "metadata": {},
   "outputs": [],
   "source": [
    "public_tweets = api.search(q=['Covid','Indonesia'], count = 6, since=\"2020-03-01\")"
   ]
  },
  {
   "cell_type": "code",
   "execution_count": 74,
   "metadata": {},
   "outputs": [
    {
     "name": "stdout",
     "output_type": "stream",
     "text": [
      "2020-12-02 19:12:29 najis banget jaringan @indihome ttackedd\n",
      "2020-12-02 19:09:44 @_mardial_ @IndiHome Dari tadi pagi udh dm blm ada kabar wkwkw internet down dr kemaren padahal bang Mahfrisa\n",
      "2020-12-02 19:01:31 Udh 3hari ni sahabat gangguan gmn ya @indihome fariswdnt\n",
      "2020-12-02 18:52:02 @IndiHome Punten mamank, indihome area pekalongan timur masih trouble? Apa gimana? muhandreardi\n",
      "2020-12-02 18:44:04 @IndiHome permisi nih ya, ini internet di makassar daerah alauddin, 2 hari kambuh2an nih losnya. Maintenence? Maint… https://t.co/GQ5IDNamC9 zikrullah98\n",
      "2020-12-02 18:31:42 Min @IndiHome wifi rumah kok mati gini ada gangguan kah? Mohon tindakannya https://t.co/4PU5dJnHzZ takology21\n",
      "2020-12-02 18:30:49 Halo @IndiHome kenapa malam malam PON nya merah ya? Kan jadi internet nya mati dan saya ga bisa ngerjain tugas dong? ibraditya\n",
      "2020-12-02 18:29:40 Halo @IndiHome, sudah lebih dari 48 jam nih, sudah lebih dari estimasi. Segera proses keluhan saya di dm ya. andriyayoy\n",
      "2020-12-02 18:25:22 @_mardial_ @IndiHome botnya ga paham fvckri\n",
      "2020-12-02 18:24:22 @IndiHome baca DM ku atau aku akan berteriak seperti kesurupan 😠😠😠😠😠. canda kesurupan, pokoknya baca DM )): 90sbutterflys\n",
      "2020-12-02 18:16:38 @_mardial_ @IndiHome Gc cek bngst @IndiHome nicolseptian\n",
      "2020-12-02 18:16:11 GUE PINDAH RUMAH GABAKAL GUE PAKE WIFI GEMBEL DARI @IndiHome LAGI daffaadrianto14\n",
      "2020-12-02 18:15:30 @RitaSopiana @IndiHome Telpon itu suka disuruh tunggu dengan alasan FUP Reset atau Reset Koneksi.\n",
      "Bisa makan waktu… https://t.co/mPHRzb2bvF njisamsoe\n",
      "2020-12-02 18:15:27 @_mardial_ @IndiHome SABAR WKWKWKWK FackingFriday\n",
      "2020-12-02 18:14:25 @IndiHome pls lah nanti pagi gue ujian. jangan berulah astaga. 90sbutterflys\n",
      "2020-12-02 18:13:05 @njisamsoe @IndiHome Telp langsung aja bang, lebih cepet penanganannya. RitaSopiana\n",
      "2020-12-02 18:12:49 permisi @IndiHome please jangan berulah nanti aku mau pas🙁🙁🤌 skyoonbin\n",
      "2020-12-02 18:12:19 @_mardial_ @IndiHome Pagi sobat, mengenai perihal tersebut langkah awal mamang sarankan untuk restart modem di loka… https://t.co/4KJvjmbysr Fahrizaal_\n",
      "2020-12-02 18:10:50 @IndiHome kenapa tagihan saya 490rb sedangkan kalau pasang baru dengan paket yg sama cuma 360rb 😐 apa perlu cabut t… https://t.co/ED4SPfjW9Z deddyika\n",
      "2020-12-02 18:08:57 @IndiHome saya sudah DM dari siang dan belum ada balasan sampai saat ini.!\n",
      "Admin sebelumnya bilang FUP reset di lak… https://t.co/Ho5TNyy36T njisamsoe\n",
      "2020-12-02 18:08:15 @IndiHome ini internet kenapa mati nyala terus ya? Tolong dicek dong pastedulaj\n",
      "2020-12-02 17:58:22 Awal bulan gangguan\n",
      "Akhir bulan ngadattt\n",
      "Hufftt @IndiHome Frrsbe\n",
      "2020-12-02 17:55:39 @IndiHome Baca DM kak, makasih HwallLiu\n",
      "2020-12-02 17:55:06 @IndiHome tiap jam 12 malam indihome selalu down khususnya di #nanggulan #salatiga knp km cukk!!! Guswen2\n",
      "2020-12-02 17:54:22 @IndiHome gokil gw lapor gk.digubris.. saatny pindah provider.. kelakuan kyk tai DerriRahma\n",
      "2020-12-02 17:51:44 @syahley @IndiHome Ganti aja ke provider lain neh lama² indi home ngeselin cuk Guswen2\n",
      "2020-12-02 17:48:48 @IndiHome kok tiap jam 12 malam area kutowinangun kidul khususnya nanggulan selalu down knp????? https://t.co/X40jGcXoKd Guswen2\n",
      "2020-12-02 17:48:07 @dxnteeeee @IndiHome AHHHHHH 3 HARI GAJE elcallmeppl\n",
      "2020-12-02 17:42:15 Gimana nii, tiap hari jam segini pasti gini mulu 😂\n",
      "@IndiHome https://t.co/emgNIj2YME Yulidhani_\n",
      "2020-12-02 17:41:43 Entah mengapa kau selalu hilang saat dibutuhkan @IndiHome 🙄 Dickapriambudi\n",
      "2020-12-02 17:40:58 @IndiHome ini kenapa lagi Wifi nggak jalan? Viki_wahyudi01\n",
      "2020-12-02 17:39:39 @merahberbinar @IndiHome Buat sarapan lentog aja besok. Want a? gundulem\n",
      "2020-12-02 17:39:26 @kelpinagustinus @IndiHome Barusan benerr, udah kesel gua IamBatakboy\n",
      "2020-12-02 17:38:47 @gundulem @IndiHome 10000 bisa? merahberbinar\n",
      "2020-12-02 17:37:49 @merahberbinar @IndiHome Gak tau nih, jam segini harusnya bs streaming2. Apa kita beli sahamnya aja nih, biar lancar 😂 gundulem\n",
      "2020-12-02 17:33:01 @gundulem aduh punyaku jg error ni min @IndiHome ada apa gerangan merahberbinar\n",
      "2020-12-02 17:32:35 woii jaringan internet kau ini emang sering putus\" ? ga enakin orang video call aja loh, janji mu kalau aku upgrade… https://t.co/uwnqhesmdZ nabilstone\n",
      "2020-12-02 17:30:57 @IndiHome min cek dm terima kasih ya BernadusRio\n",
      "2020-12-02 17:30:16 Ping @IndiHome bisa buat beli permen https://t.co/cpGETw5dP0 yostronaut\n",
      "2020-12-02 17:29:35 @IndiHome modyar indihome kwwkwkww kelas BUMN kayak kelas RT/RW net.. bagusan RT/RW net fast respon dan solutif TukangACkom\n",
      "2020-12-02 17:29:09 @IndiHome  min saya kok kalo pakai indihome whatsapp gak bisa ngirim atau nerima gambar ya? arya_bhiru\n",
      "2020-12-02 17:28:28 bos cek dm @Indihome https://t.co/e5cM6G9dbg dityayogap\n",
      "2020-12-02 17:28:19 @nonikarini @IndiHome Iya nih PUTRABUNGSUZEUS\n",
      "2020-12-02 17:26:52 Huee admin aku lg pake sendiri doang wifinya dirumah kesambung 2 devices doang, tapi lola bgt gusti😭😭😭😭 @IndiHome lachimoolalaa_\n",
      "2020-12-02 17:24:09 @indihome lagi down ya? jujur aj gpp corpzse\n",
      "2020-12-02 17:20:11 @makanteros @IndiHome Akhirnya pake kuota sendiri😶 penikmatldr_\n",
      "2020-12-02 17:19:48 @IndiHome assalamu'alaikum kak indihome sering gangguan tiap malam ya? Pdhl saya bayar rutin gapernah tunda tunda😢😢 nonikarini\n",
      "2020-12-02 17:19:26 Gua mauuu nontonn bolaaa ntarrr\n",
      "Jangannn becandaaa dongg weii @indihome IamBatakboy\n",
      "2020-12-02 17:17:55 @idpjlstrrr @IndiHome wkwkwk kaga .. emg aku pake cbn.. lebih enak... stabil . juprex_13\n",
      "2020-12-02 17:16:54 @IndiHome down lagi? Tidak bisa nyambung ke jaringan ramadhangluwe\n"
     ]
    }
   ],
   "source": [
    "# all_polarity = 0\n",
    "# for tweet in public_tweets:\n",
    "#     data = tweet.text\n",
    "#     print(tweet.created_at, data)\n",
    "#     df = pd.DataFrame(eval(str(tweet.text)))\n",
    "    \n",
    "#     analysis = TextBlob(tweet.text)\n",
    "#     an = analysis.translate(from_lang='id', to='en')\n",
    "#     sentimen = an.sentiment\n",
    "#     print(sentimen)\n",
    "#     all_polarity += an.polarity\n",
    "    \n",
    "#     print(\"\")\n",
    "\n",
    "csvFile = open('nyoba.csv','a', encoding='utf-8')\n",
    "csvWriter = csv.writer(csvFile)\n",
    "for tweet in tweepy.Cursor(api.search, q= \"@Indihome\",count=10, #q=Indihome\n",
    "                          lang='id',\n",
    "                          since=\"2020-11-24\").items(50):\n",
    "    print(tweet.created_at, tweet.text, tweet.user.screen_name)\n",
    "    csvWriter.writerow([\"Date\", \"Tweet\", \"Screen\"])\n",
    "    csvWriter.writerow([tweet.created_at, tweet.text, tweet.user.screen_name])"
   ]
  },
  {
   "cell_type": "code",
   "execution_count": 75,
   "metadata": {},
   "outputs": [
    {
     "data": {
      "text/html": [
       "<div>\n",
       "<style scoped>\n",
       "    .dataframe tbody tr th:only-of-type {\n",
       "        vertical-align: middle;\n",
       "    }\n",
       "\n",
       "    .dataframe tbody tr th {\n",
       "        vertical-align: top;\n",
       "    }\n",
       "\n",
       "    .dataframe thead th {\n",
       "        text-align: right;\n",
       "    }\n",
       "</style>\n",
       "<table border=\"1\" class=\"dataframe\">\n",
       "  <thead>\n",
       "    <tr style=\"text-align: right;\">\n",
       "      <th></th>\n",
       "      <th>2020-12-02 19:01:31</th>\n",
       "      <th>Udh 3hari ni sahabat gangguan gmn ya @indihome</th>\n",
       "      <th>fariswdnt</th>\n",
       "    </tr>\n",
       "  </thead>\n",
       "  <tbody>\n",
       "    <tr>\n",
       "      <th>0</th>\n",
       "      <td>2020-12-02 18:52:02</td>\n",
       "      <td>@IndiHome Punten mamank, indihome area pekalon...</td>\n",
       "      <td>muhandreardi</td>\n",
       "    </tr>\n",
       "    <tr>\n",
       "      <th>1</th>\n",
       "      <td>2020-12-02 18:44:04</td>\n",
       "      <td>@IndiHome permisi nih ya, ini internet di maka...</td>\n",
       "      <td>zikrullah98</td>\n",
       "    </tr>\n",
       "    <tr>\n",
       "      <th>2</th>\n",
       "      <td>2020-12-02 18:31:42</td>\n",
       "      <td>Min @IndiHome wifi rumah kok mati gini ada gan...</td>\n",
       "      <td>takology21</td>\n",
       "    </tr>\n",
       "    <tr>\n",
       "      <th>3</th>\n",
       "      <td>2020-12-02 18:30:49</td>\n",
       "      <td>Halo @IndiHome kenapa malam malam PON nya mera...</td>\n",
       "      <td>ibraditya</td>\n",
       "    </tr>\n",
       "    <tr>\n",
       "      <th>4</th>\n",
       "      <td>2020-12-02 18:29:40</td>\n",
       "      <td>Halo @IndiHome, sudah lebih dari 48 jam nih, s...</td>\n",
       "      <td>andriyayoy</td>\n",
       "    </tr>\n",
       "    <tr>\n",
       "      <th>...</th>\n",
       "      <td>...</td>\n",
       "      <td>...</td>\n",
       "      <td>...</td>\n",
       "    </tr>\n",
       "    <tr>\n",
       "      <th>445</th>\n",
       "      <td>2020-12-02 17:20:11</td>\n",
       "      <td>@makanteros @IndiHome Akhirnya pake kuota send...</td>\n",
       "      <td>penikmatldr_</td>\n",
       "    </tr>\n",
       "    <tr>\n",
       "      <th>446</th>\n",
       "      <td>2020-12-02 17:19:48</td>\n",
       "      <td>@IndiHome assalamu'alaikum kak indihome sering...</td>\n",
       "      <td>nonikarini</td>\n",
       "    </tr>\n",
       "    <tr>\n",
       "      <th>447</th>\n",
       "      <td>2020-12-02 17:19:26</td>\n",
       "      <td>Gua mauuu nontonn bolaaa ntarrr\\r\\nJangannn be...</td>\n",
       "      <td>IamBatakboy</td>\n",
       "    </tr>\n",
       "    <tr>\n",
       "      <th>448</th>\n",
       "      <td>2020-12-02 17:17:55</td>\n",
       "      <td>@idpjlstrrr @IndiHome wkwkwk kaga .. emg aku p...</td>\n",
       "      <td>juprex_13</td>\n",
       "    </tr>\n",
       "    <tr>\n",
       "      <th>449</th>\n",
       "      <td>2020-12-02 17:16:54</td>\n",
       "      <td>@IndiHome down lagi? Tidak bisa nyambung ke ja...</td>\n",
       "      <td>ramadhangluwe</td>\n",
       "    </tr>\n",
       "  </tbody>\n",
       "</table>\n",
       "<p>450 rows × 3 columns</p>\n",
       "</div>"
      ],
      "text/plain": [
       "     2020-12-02 19:01:31     Udh 3hari ni sahabat gangguan gmn ya @indihome  \\\n",
       "0    2020-12-02 18:52:02  @IndiHome Punten mamank, indihome area pekalon...   \n",
       "1    2020-12-02 18:44:04  @IndiHome permisi nih ya, ini internet di maka...   \n",
       "2    2020-12-02 18:31:42  Min @IndiHome wifi rumah kok mati gini ada gan...   \n",
       "3    2020-12-02 18:30:49  Halo @IndiHome kenapa malam malam PON nya mera...   \n",
       "4    2020-12-02 18:29:40  Halo @IndiHome, sudah lebih dari 48 jam nih, s...   \n",
       "..                   ...                                                ...   \n",
       "445  2020-12-02 17:20:11  @makanteros @IndiHome Akhirnya pake kuota send...   \n",
       "446  2020-12-02 17:19:48  @IndiHome assalamu'alaikum kak indihome sering...   \n",
       "447  2020-12-02 17:19:26  Gua mauuu nontonn bolaaa ntarrr\\r\\nJangannn be...   \n",
       "448  2020-12-02 17:17:55  @idpjlstrrr @IndiHome wkwkwk kaga .. emg aku p...   \n",
       "449  2020-12-02 17:16:54  @IndiHome down lagi? Tidak bisa nyambung ke ja...   \n",
       "\n",
       "         fariswdnt  \n",
       "0     muhandreardi  \n",
       "1      zikrullah98  \n",
       "2       takology21  \n",
       "3        ibraditya  \n",
       "4       andriyayoy  \n",
       "..             ...  \n",
       "445   penikmatldr_  \n",
       "446     nonikarini  \n",
       "447    IamBatakboy  \n",
       "448      juprex_13  \n",
       "449  ramadhangluwe  \n",
       "\n",
       "[450 rows x 3 columns]"
      ]
     },
     "execution_count": 75,
     "metadata": {},
     "output_type": "execute_result"
    }
   ],
   "source": [
    "# from textblob.classifiers import NaiveBayesClassifier\n",
    "# kl = NaiveBayesClassifier()\n",
    "\n",
    "# import pandas as pd\n",
    "\n",
    "# df = pd.DataFrame(eval(data))\n",
    "\n",
    "data = pd.read_csv(\"nyoba.csv\")\n",
    "data"
   ]
  },
  {
   "cell_type": "code",
   "execution_count": 77,
   "metadata": {},
   "outputs": [
    {
     "data": {
      "text/html": [
       "<div>\n",
       "<style scoped>\n",
       "    .dataframe tbody tr th:only-of-type {\n",
       "        vertical-align: middle;\n",
       "    }\n",
       "\n",
       "    .dataframe tbody tr th {\n",
       "        vertical-align: top;\n",
       "    }\n",
       "\n",
       "    .dataframe thead th {\n",
       "        text-align: right;\n",
       "    }\n",
       "</style>\n",
       "<table border=\"1\" class=\"dataframe\">\n",
       "  <thead>\n",
       "    <tr style=\"text-align: right;\">\n",
       "      <th></th>\n",
       "      <th>2020-12-02 19:01:31</th>\n",
       "      <th>Udh 3hari ni sahabat gangguan gmn ya @indihome</th>\n",
       "      <th>fariswdnt</th>\n",
       "      <th>Polarity</th>\n",
       "      <th>Subjectivity</th>\n",
       "    </tr>\n",
       "  </thead>\n",
       "  <tbody>\n",
       "    <tr>\n",
       "      <th>0</th>\n",
       "      <td>2020-12-02 18:52:02</td>\n",
       "      <td>@IndiHome Punten mamank, indihome area pekalon...</td>\n",
       "      <td>muhandreardi</td>\n",
       "      <td>-0.200000</td>\n",
       "      <td>0.200000</td>\n",
       "    </tr>\n",
       "    <tr>\n",
       "      <th>1</th>\n",
       "      <td>2020-12-02 18:44:04</td>\n",
       "      <td>@IndiHome permisi nih ya, ini internet di maka...</td>\n",
       "      <td>zikrullah98</td>\n",
       "      <td>0.000000</td>\n",
       "      <td>0.000000</td>\n",
       "    </tr>\n",
       "    <tr>\n",
       "      <th>2</th>\n",
       "      <td>2020-12-02 18:31:42</td>\n",
       "      <td>Min @IndiHome wifi rumah kok mati gini ada gan...</td>\n",
       "      <td>takology21</td>\n",
       "      <td>0.000000</td>\n",
       "      <td>0.000000</td>\n",
       "    </tr>\n",
       "    <tr>\n",
       "      <th>3</th>\n",
       "      <td>2020-12-02 18:30:49</td>\n",
       "      <td>Halo @IndiHome kenapa malam malam PON nya mera...</td>\n",
       "      <td>ibraditya</td>\n",
       "      <td>0.000000</td>\n",
       "      <td>0.000000</td>\n",
       "    </tr>\n",
       "    <tr>\n",
       "      <th>4</th>\n",
       "      <td>2020-12-02 18:29:40</td>\n",
       "      <td>Halo @IndiHome, sudah lebih dari 48 jam nih, s...</td>\n",
       "      <td>andriyayoy</td>\n",
       "      <td>0.000000</td>\n",
       "      <td>0.000000</td>\n",
       "    </tr>\n",
       "    <tr>\n",
       "      <th>...</th>\n",
       "      <td>...</td>\n",
       "      <td>...</td>\n",
       "      <td>...</td>\n",
       "      <td>...</td>\n",
       "      <td>...</td>\n",
       "    </tr>\n",
       "    <tr>\n",
       "      <th>445</th>\n",
       "      <td>2020-12-02 17:20:11</td>\n",
       "      <td>@makanteros @IndiHome Akhirnya pake kuota send...</td>\n",
       "      <td>penikmatldr_</td>\n",
       "      <td>0.000000</td>\n",
       "      <td>0.000000</td>\n",
       "    </tr>\n",
       "    <tr>\n",
       "      <th>446</th>\n",
       "      <td>2020-12-02 17:19:48</td>\n",
       "      <td>@IndiHome assalamu'alaikum kak indihome sering...</td>\n",
       "      <td>nonikarini</td>\n",
       "      <td>0.000000</td>\n",
       "      <td>0.000000</td>\n",
       "    </tr>\n",
       "    <tr>\n",
       "      <th>447</th>\n",
       "      <td>2020-12-02 17:19:26</td>\n",
       "      <td>Gua mauuu nontonn bolaaa ntarrr\\r\\nJangannn be...</td>\n",
       "      <td>IamBatakboy</td>\n",
       "      <td>0.000000</td>\n",
       "      <td>0.000000</td>\n",
       "    </tr>\n",
       "    <tr>\n",
       "      <th>448</th>\n",
       "      <td>2020-12-02 17:17:55</td>\n",
       "      <td>@idpjlstrrr @IndiHome wkwkwk kaga .. emg aku p...</td>\n",
       "      <td>juprex_13</td>\n",
       "      <td>0.000000</td>\n",
       "      <td>0.000000</td>\n",
       "    </tr>\n",
       "    <tr>\n",
       "      <th>449</th>\n",
       "      <td>2020-12-02 17:16:54</td>\n",
       "      <td>@IndiHome down lagi? Tidak bisa nyambung ke ja...</td>\n",
       "      <td>ramadhangluwe</td>\n",
       "      <td>-0.155556</td>\n",
       "      <td>0.288889</td>\n",
       "    </tr>\n",
       "  </tbody>\n",
       "</table>\n",
       "<p>450 rows × 5 columns</p>\n",
       "</div>"
      ],
      "text/plain": [
       "     2020-12-02 19:01:31     Udh 3hari ni sahabat gangguan gmn ya @indihome  \\\n",
       "0    2020-12-02 18:52:02  @IndiHome Punten mamank, indihome area pekalon...   \n",
       "1    2020-12-02 18:44:04  @IndiHome permisi nih ya, ini internet di maka...   \n",
       "2    2020-12-02 18:31:42  Min @IndiHome wifi rumah kok mati gini ada gan...   \n",
       "3    2020-12-02 18:30:49  Halo @IndiHome kenapa malam malam PON nya mera...   \n",
       "4    2020-12-02 18:29:40  Halo @IndiHome, sudah lebih dari 48 jam nih, s...   \n",
       "..                   ...                                                ...   \n",
       "445  2020-12-02 17:20:11  @makanteros @IndiHome Akhirnya pake kuota send...   \n",
       "446  2020-12-02 17:19:48  @IndiHome assalamu'alaikum kak indihome sering...   \n",
       "447  2020-12-02 17:19:26  Gua mauuu nontonn bolaaa ntarrr\\r\\nJangannn be...   \n",
       "448  2020-12-02 17:17:55  @idpjlstrrr @IndiHome wkwkwk kaga .. emg aku p...   \n",
       "449  2020-12-02 17:16:54  @IndiHome down lagi? Tidak bisa nyambung ke ja...   \n",
       "\n",
       "         fariswdnt  Polarity  Subjectivity  \n",
       "0     muhandreardi -0.200000      0.200000  \n",
       "1      zikrullah98  0.000000      0.000000  \n",
       "2       takology21  0.000000      0.000000  \n",
       "3        ibraditya  0.000000      0.000000  \n",
       "4       andriyayoy  0.000000      0.000000  \n",
       "..             ...       ...           ...  \n",
       "445   penikmatldr_  0.000000      0.000000  \n",
       "446     nonikarini  0.000000      0.000000  \n",
       "447    IamBatakboy  0.000000      0.000000  \n",
       "448      juprex_13  0.000000      0.000000  \n",
       "449  ramadhangluwe -0.155556      0.288889  \n",
       "\n",
       "[450 rows x 5 columns]"
      ]
     },
     "execution_count": 77,
     "metadata": {},
     "output_type": "execute_result"
    }
   ],
   "source": [
    "Data_polarity = lambda x: TextBlob(x).sentiment.polarity\n",
    "Data_subjective = lambda x: TextBlob(x).sentiment.subjectivity\n",
    "data['Polarity'] = data[\"Udh 3hari ni sahabat gangguan gmn ya @indihome\"].apply(Data_polarity)\n",
    "data['Subjectivity'] = data[\"Udh 3hari ni sahabat gangguan gmn ya @indihome\"].apply(Data_subjective)\n",
    "data"
   ]
  },
  {
   "cell_type": "code",
   "execution_count": 78,
   "metadata": {},
   "outputs": [],
   "source": [
    "#untuk menambahkan sentimen positif, negatif / netral dari polarity yg sudah dihitung\n",
    "def Sentimen(data):\n",
    "    if data['Polarity'] >= 0:\n",
    "        val = 'Positif/Netral'\n",
    "    elif data['Polarity'] < 0:\n",
    "        val = 'Negatif'\n",
    "    return val\n",
    "        \n",
    "data['Sentimen'] = data.apply(Sentimen, axis=1)\n",
    "\n",
    "data.to_csv(\"DataIndihome_DenganSentimen1.csv\", index = False) #menyimpan ke file csv baru"
   ]
  },
  {
   "cell_type": "code",
   "execution_count": 79,
   "metadata": {},
   "outputs": [],
   "source": [
    "#dibagian ini dari data yg sdh memiliki sentimen tadi dibuat visual nya dalam bentuk Grafik\n",
    "import matplotlib.pyplot as plt\n",
    "import seaborn as sns"
   ]
  },
  {
   "cell_type": "code",
   "execution_count": 80,
   "metadata": {},
   "outputs": [
    {
     "data": {
      "image/png": "[encoded data removed]",
      "text/plain": [
       "<Figure size 360x360 with 1 Axes>"
      ]
     },
     "metadata": {
      "needs_background": "light"
     },
     "output_type": "display_data"
    }
   ],
   "source": [
    "plt.figure(figsize=(5,5))\n",
    "sns.set_style('whitegrid')\n",
    "ax = sns.countplot(x = 'Sentimen', data=data)"
   ]
  },
  {
   "cell_type": "code",
   "execution_count": 91,
   "metadata": {},
   "outputs": [],
   "source": [
    "\n",
    "from nltk.corpus import stopwords\n",
    "from wordcloud import WordCloud,STOPWORDS\n",
    "import codecs\n",
    "import re,string\n",
    "stop = set(stopwords.words('indonesian')) "
   ]
  },
  {
   "cell_type": "code",
   "execution_count": 104,
   "metadata": {},
   "outputs": [],
   "source": [
    "def praproses(teks):\n",
    "    teks = re.sub(r'http\\S+','',teks)\n",
    "    teks = hapus_tanda(teks)\n",
    "    teks = re.sub(r'#([^\\s]+)', r'\\1', teks) #hapus #tagger\n",
    "    teks = re.sub(r'\\w*\\d\\w*', '',teks).strip()#hapus angka dan angka yang berada dalam string\n",
    "    teks = hapus_katadouble(teks)#hapus repetisi karakter\n",
    "    teks = teks.lower() #ubah jadi lower case\n",
    "    teks = to_kbbi(teks)\n",
    "    return teks\n",
    "\n",
    "def hapus_tanda(teks): \n",
    "    tanda_baca = set(string.punctuation)\n",
    "    tanda_baca.update(['…'])\n",
    "    teks = ''.join(ch for ch in teks if ch not in tanda_baca)\n",
    "    return teks\n",
    "\n",
    "def hapus_katadouble(s): \n",
    "    #look for 2 or more repetitions of character and replace with the character itself\n",
    "    pattern = re.compile(r\"(.)\\1{1,}\", re.DOTALL)\n",
    "    return pattern.sub(r\"\\1\\1\", s)\n",
    "\n",
    "def kbbi(kata): # penyeragaman kata berdasarkan kbbi \n",
    "\t#kbba = [kamus.strip('\\n').strip('\\r') for kamus in open('kamus\\\\kbba.txt')]\n",
    "\tkamus_kata = [kamus.strip('\\n').strip('\\r') for kamus in open('kbba.txt')]\n",
    "\t#ubah list menjadi dictionary \n",
    "\tdic = {}\n",
    "\tfor i in kamus_kata: \n",
    "\t\t(key, val) = i.split('\\t')\n",
    "\t\tdic[str(key)] = val\n",
    "\t#kbbi cocokan \n",
    "\tfinal_string = ' '.join(str(dic.get(word, word)) for word in kata).split()\n",
    "\treturn final_string\n",
    "\n",
    "def to_kbbi(teks):\n",
    "    tek = teks.split()\n",
    "    tek = kbbi(tek)\n",
    "    return tek\n",
    "\n",
    "#Removing the stopwords from text\n",
    "def remove_stopwords(text):\n",
    "    final_text = []\n",
    "    for i in text.split():\n",
    "        if i.strip().lower() not in stop:\n",
    "            final_text.append(i.strip())\n",
    "    return \" \".join(final_text)\n",
    "    \n",
    "#Removing the noisy text\n",
    "def denoise_text(text):\n",
    "#     text = strip_html(text)\n",
    "#     text = remove_between_square_brackets(text)\n",
    "    text = remove_stopwords(text)\n",
    "    text = praproses(text)\n",
    "    return text\n",
    "\n",
    "#Apply function on review column\n",
    "data[\"Udh 3hari ni sahabat gangguan gmn ya @indihome\"]=data[\"Udh 3hari ni sahabat gangguan gmn ya @indihome\"].apply(denoise_text)\n"
   ]
  },
  {
   "cell_type": "code",
   "execution_count": 107,
   "metadata": {},
   "outputs": [
    {
     "data": {
      "text/plain": [
       "0      [indihome, punten, mamank, indihome, area, pek...\n",
       "1      [indihome, permisi, ini, iya, internet, makass...\n",
       "2      [min, indihome, wifi, rumah, mati, begini, gan...\n",
       "3      [halo, indihome, malam, malam, pon, nya, merah...\n",
       "4      [halo, indihome, jam, ini, estimasi, proses, k...\n",
       "                             ...                        \n",
       "445       [makanteros, indihome, pakai, kuota, sendiri😶]\n",
       "446    [indihome, assalamualaikum, kak, indihome, gan...\n",
       "447    [saya, mauu, nontonn, bolaa, ntarr, jangann, b...\n",
       "448    [idpjlstrr, indihome, wkwkwk, tidak, memang, p...\n",
       "449                 [indihome, down, nyambung, jaringan]\n",
       "Name: Udh 3hari ni sahabat gangguan gmn ya @indihome, Length: 450, dtype: object"
      ]
     },
     "execution_count": 107,
     "metadata": {},
     "output_type": "execute_result"
    }
   ],
   "source": [
    "data['Udh 3hari ni sahabat gangguan gmn ya @indihome']"
   ]
  },
  {
   "cell_type": "code",
   "execution_count": 109,
   "metadata": {},
   "outputs": [],
   "source": [
    "from textblob.classifiers import NaiveBayesClassifier\n",
    "\n",
    "# # for tweet in data[\"Udh 3hari ni sahabat gangguan gmn ya @indihome\"].items():\n",
    "# #     kl = NaiveBayesClassifier(tweet)\n",
    "# # return tweet\n",
    "# from sklearn.feature_extraction.text import CountVectorizer\n",
    "# # Define the cleaning pipeline we defined earlier\n",
    "# vectorizer = CountVectorizer(analyzer = denoise_text)\n",
    "# tweets_countvectorizer = CountVectorizer(analyzer = denoise_text, dtype = 'uint8').fit_transform(\n",
    "#     data[\"Udh 3hari ni sahabat gangguan gmn ya @indihome\"]).toarray()"
   ]
  },
  {
   "cell_type": "code",
   "execution_count": 116,
   "metadata": {},
   "outputs": [],
   "source": [
    "#defining a pipeline to clean up all the messages \n",
    "# The pipeline performs the following: (1) remove punctuation, (2) remove stopwords\n",
    "\n",
    "def message_cleaning(message):\n",
    "    Test_punc_removed = [char for char in message if char not in string.punctuation]\n",
    "    Test_punc_removed_join = ''.join(Test_punc_removed)\n",
    "    Test_punc_removed_join_clean = [word for word in Test_punc_removed_join.split() if word.lower() not in stopwords.words('english')]\n",
    "    return Test_punc_removed_join_clean"
   ]
  },
  {
   "cell_type": "code",
   "execution_count": 117,
   "metadata": {},
   "outputs": [],
   "source": [
    "tweets_df_clean = data['Udh 3hari ni sahabat gangguan gmn ya @indihome'].apply(message_cleaning)"
   ]
  },
  {
   "cell_type": "code",
   "execution_count": 118,
   "metadata": {},
   "outputs": [],
   "source": [
    "from sklearn.feature_extraction.text import CountVectorizer\n",
    "# Define the cleaning pipeline we defined earlier\n",
    "vectorizer = CountVectorizer(analyzer = message_cleaning)\n",
    "tweets_countvectorizer = CountVectorizer(analyzer = message_cleaning, dtype = 'uint8').fit_transform(\n",
    "    data['Udh 3hari ni sahabat gangguan gmn ya @indihome']).toarray()"
   ]
  },
  {
   "cell_type": "code",
   "execution_count": 119,
   "metadata": {},
   "outputs": [],
   "source": [
    "X = tweets_countvectorizer"
   ]
  },
  {
   "cell_type": "code",
   "execution_count": 120,
   "metadata": {},
   "outputs": [
    {
     "data": {
      "text/plain": [
       "array([[0, 0, 0, ..., 0, 0, 0],\n",
       "       [0, 0, 0, ..., 0, 0, 0],\n",
       "       [0, 0, 0, ..., 0, 0, 0],\n",
       "       ...,\n",
       "       [0, 0, 0, ..., 0, 0, 0],\n",
       "       [0, 0, 0, ..., 0, 0, 0],\n",
       "       [0, 0, 0, ..., 0, 0, 0]], dtype=uint8)"
      ]
     },
     "execution_count": 120,
     "metadata": {},
     "output_type": "execute_result"
    }
   ],
   "source": [
    "X"
   ]
  },
  {
   "cell_type": "code",
   "execution_count": 121,
   "metadata": {},
   "outputs": [],
   "source": [
    "y = data['Sentimen']"
   ]
  },
  {
   "cell_type": "code",
   "execution_count": 122,
   "metadata": {},
   "outputs": [],
   "source": [
    "from sklearn.model_selection import train_test_split\n",
    "X_train, X_test, y_train, y_test = train_test_split(X, y, test_size=0.2)"
   ]
  },
  {
   "cell_type": "code",
   "execution_count": 123,
   "metadata": {},
   "outputs": [
    {
     "data": {
      "text/plain": [
       "MultinomialNB(alpha=1.0, class_prior=None, fit_prior=True)"
      ]
     },
     "execution_count": 123,
     "metadata": {},
     "output_type": "execute_result"
    }
   ],
   "source": [
    "from sklearn.naive_bayes import MultinomialNB\n",
    "\n",
    "NB_classifier = MultinomialNB()\n",
    "NB_classifier.fit(X_train, y_train)"
   ]
  },
  {
   "cell_type": "code",
   "execution_count": 124,
   "metadata": {},
   "outputs": [],
   "source": [
    "from sklearn.metrics import classification_report, confusion_matrix"
   ]
  },
  {
   "cell_type": "code",
   "execution_count": 125,
   "metadata": {},
   "outputs": [
    {
     "data": {
      "text/plain": [
       "<matplotlib.axes._subplots.AxesSubplot at 0xd88ee27548>"
      ]
     },
     "execution_count": 125,
     "metadata": {},
     "output_type": "execute_result"
    },
    {
     "data": {
      "image/png": "[encoded data removed]",
      "text/plain": [
       "<Figure size 432x288 with 2 Axes>"
      ]
     },
     "metadata": {},
     "output_type": "display_data"
    }
   ],
   "source": [
    "# Predicting the Test set results\n",
    "y_predict_test = NB_classifier.predict(X_test)\n",
    "cm = confusion_matrix(y_test, y_predict_test)\n",
    "sns.heatmap(cm, annot=True)"
   ]
  },
  {
   "cell_type": "code",
   "execution_count": 126,
   "metadata": {},
   "outputs": [
    {
     "name": "stdout",
     "output_type": "stream",
     "text": [
      "                precision    recall  f1-score   support\n",
      "\n",
      "       Negatif       1.00      1.00      1.00         6\n",
      "Positif/Netral       1.00      1.00      1.00        84\n",
      "\n",
      "      accuracy                           1.00        90\n",
      "     macro avg       1.00      1.00      1.00        90\n",
      "  weighted avg       1.00      1.00      1.00        90\n",
      "\n"
     ]
    }
   ],
   "source": [
    "print(classification_report(y_test, y_predict_test))"
   ]
  },
  {
   "cell_type": "code",
   "execution_count": null,
   "metadata": {},
   "outputs": [],
   "source": []
  }
 ],
 "metadata": {
  "kernelspec": {
   "display_name": "Python 3",
   "language": "python",
   "name": "python3"
  },
  "language_info": {
   "codemirror_mode": {
    "name": "ipython",
    "version": 3
   },
   "file_extension": ".py",
   "mimetype": "text/x-python",
   "name": "python",
   "nbconvert_exporter": "python",
   "pygments_lexer": "ipython3",
   "version": "3.7.6"
  }
 },
 "nbformat": 4,
 "nbformat_minor": 4
}
